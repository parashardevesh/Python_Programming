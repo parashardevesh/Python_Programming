{
 "cells": [
  {
   "cell_type": "markdown",
   "metadata": {},
   "source": [
    "# Even Or Odd\n",
    "\n",
    "## Description\n",
    "\n",
    "Given an integer, print whether it is Even or Odd.\n",
    "\n",
    "\n",
    "*Input:*\n",
    "\n",
    "* An integer\n",
    "\n",
    "*Output:*\n",
    "* 'Even' or 'Odd'\n",
    "\n",
    "\n",
    "*Sample input:*\n",
    "* 3\n",
    "\n",
    "*Sample output:*\n",
    "* Odd"
   ]
  },
  {
   "cell_type": "code",
   "execution_count": 7,
   "metadata": {},
   "outputs": [],
   "source": [
    "def even_odd(x): #taking integer value from user\n",
    "    if x%2==0: #if remainder is 0 when divided by 2 then its an even no. else odd\n",
    "        print('Even')\n",
    "    else:\n",
    "        print('Odd')"
   ]
  },
  {
   "cell_type": "code",
   "execution_count": 8,
   "metadata": {},
   "outputs": [
    {
     "name": "stdout",
     "output_type": "stream",
     "text": [
      "Odd\n"
     ]
    }
   ],
   "source": [
    "even_odd(101)"
   ]
  }
 ],
 "metadata": {
  "kernelspec": {
   "display_name": "base",
   "language": "python",
   "name": "python3"
  },
  "language_info": {
   "codemirror_mode": {
    "name": "ipython",
    "version": 3
   },
   "file_extension": ".py",
   "mimetype": "text/x-python",
   "name": "python",
   "nbconvert_exporter": "python",
   "pygments_lexer": "ipython3",
   "version": "3.11.5"
  }
 },
 "nbformat": 4,
 "nbformat_minor": 2
}
