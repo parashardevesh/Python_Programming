{
 "cells": [
  {
   "cell_type": "markdown",
   "metadata": {},
   "source": [
    "# Reverse The Digits\n",
    "## Description\n",
    "\n",
    "You will be given a number. You have to reverse the digits of the number and print it.\n",
    "\n",
    "\n",
    "*Input:*\n",
    "* A positive integer greater than zero\n",
    "\n",
    "*Output:*\n",
    "* The number in reverse order. Check sample outputs for more details.\n",
    "\n",
    "\n",
    "*Sample input:*\n",
    "* 345200\n",
    "\n",
    "*Sample output:*\n",
    "* 2543"
   ]
  },
  {
   "cell_type": "code",
   "execution_count": 1,
   "metadata": {},
   "outputs": [],
   "source": [
    "def digit_reverser(number):\n",
    "    \n",
    "    r=0\n",
    "    while(number>0):\n",
    "        r = r*10 + number%10\n",
    "        number = number//10\n",
    "\n",
    "    print(r)"
   ]
  },
  {
   "cell_type": "code",
   "execution_count": 2,
   "metadata": {},
   "outputs": [
    {
     "name": "stdout",
     "output_type": "stream",
     "text": [
      "934431\n"
     ]
    }
   ],
   "source": [
    "digit_reverser(13443900)"
   ]
  }
 ],
 "metadata": {
  "kernelspec": {
   "display_name": "base",
   "language": "python",
   "name": "python3"
  },
  "language_info": {
   "codemirror_mode": {
    "name": "ipython",
    "version": 3
   },
   "file_extension": ".py",
   "mimetype": "text/x-python",
   "name": "python",
   "nbconvert_exporter": "python",
   "pygments_lexer": "ipython3",
   "version": "3.11.5"
  }
 },
 "nbformat": 4,
 "nbformat_minor": 2
}
