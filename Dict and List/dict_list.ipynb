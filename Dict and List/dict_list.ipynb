{
 "cells": [
  {
   "cell_type": "markdown",
   "metadata": {},
   "source": [
    "# Dictionary And List\n",
    "## Description\n",
    "\n",
    "You will be converting a dictionary, of string(keys) and list of string (values),  to a list of strings. Please check the sample input/output for clarification.\n",
    "\n",
    "*Input:*\n",
    "* A dictionary with keys as strings and values as a list of strings.\n",
    "\n",
    "*Output:*\n",
    "* A list of strings\n",
    "\n",
    "\n",
    "*Sample input:*\n",
    "* {‘Mobile’: [‘Redmi’, ‘Samsung’, ‘Realme’], \n",
    "* ‘Laptop’: [‘Dell’, ‘HP’],\n",
    "* ‘TV’: [‘Videocon’, ‘Sony’] }\n",
    "\n",
    "*Sample output:*\n",
    "* [‘Mobile_Redmi’, ‘Mobile_Samsung’, ‘Mobile_Realme’, ‘Laptop_Dell’, ‘Laptop_HP’, ‘TV_Videocon’, ‘TV_Sony’]\n",
    "\n",
    "*Sample input:*\n",
    "* { 'Pen': ['Gel', 'Ink', 'ball'],\n",
    "* 'Mobile': ['Android', 'apple'] }\n",
    "\n",
    "*Sample output:*\n",
    "* ['Pen_Gel', 'Pen_Ink', 'Pen_ball', 'Mobile_Android', 'Mobile_apple']"
   ]
  },
  {
   "cell_type": "code",
   "execution_count": 5,
   "metadata": {},
   "outputs": [],
   "source": [
    "def dict_list(dictionary):\n",
    "    lis=[]\n",
    "    \n",
    "    for key in dictionary.keys():\n",
    "        for v in dictionary[key]:\n",
    "            lis.append(key+'_'+v)\n",
    "    \n",
    "    print(lis)"
   ]
  },
  {
   "cell_type": "code",
   "execution_count": 6,
   "metadata": {},
   "outputs": [
    {
     "name": "stdout",
     "output_type": "stream",
     "text": [
      "['Mobile_Redmi', 'Mobile_Samsung', 'Mobile_Realme', 'Laptop_Dell', 'Laptop_HP', 'TV_Videocon', 'TV_Sony']\n"
     ]
    }
   ],
   "source": [
    "dict_list({'Mobile': ['Redmi', 'Samsung', 'Realme'], 'Laptop': ['Dell', 'HP'], 'TV':['Videocon', 'Sony'] })"
   ]
  }
 ],
 "metadata": {
  "kernelspec": {
   "display_name": "base",
   "language": "python",
   "name": "python3"
  },
  "language_info": {
   "codemirror_mode": {
    "name": "ipython",
    "version": 3
   },
   "file_extension": ".py",
   "mimetype": "text/x-python",
   "name": "python",
   "nbconvert_exporter": "python",
   "pygments_lexer": "ipython3",
   "version": "3.11.5"
  }
 },
 "nbformat": 4,
 "nbformat_minor": 2
}
