{
 "cells": [
  {
   "cell_type": "markdown",
   "metadata": {},
   "source": [
    "# Reverse Words\n",
    "## Description\n",
    "\n",
    "You will be given a sentence in the form of a string. You have to reverse the order of the words in the sentence. Remember not to reverse the individual words, but the order of words. Check the sample input-output for further clarification.\n",
    "\n",
    "*Input:*\n",
    "* A string, which will consist of a few spaces.\n",
    "\n",
    "*Output:*\n",
    "* The words in reverse order.\n",
    "\n",
    "\n",
    "*Sample input:*\n",
    "* I love coding in python\n",
    "\n",
    "*Sample output:*\n",
    "* python in coding love I\n"
   ]
  },
  {
   "cell_type": "code",
   "execution_count": 3,
   "metadata": {},
   "outputs": [],
   "source": [
    "def sentence_reverser(sentence):\n",
    "    sentence = sentence.split()\n",
    "    sentence.reverse()\n",
    "    print(' '.join(sentence))"
   ]
  },
  {
   "cell_type": "code",
   "execution_count": 7,
   "metadata": {},
   "outputs": [
    {
     "name": "stdout",
     "output_type": "stream",
     "text": [
      "Parashar Devesh am I World Hello\n"
     ]
    }
   ],
   "source": [
    "sentence_reverser('Hello World I am Devesh Parashar')"
   ]
  }
 ],
 "metadata": {
  "kernelspec": {
   "display_name": "base",
   "language": "python",
   "name": "python3"
  },
  "language_info": {
   "codemirror_mode": {
    "name": "ipython",
    "version": 3
   },
   "file_extension": ".py",
   "mimetype": "text/x-python",
   "name": "python",
   "nbconvert_exporter": "python",
   "pygments_lexer": "ipython3",
   "version": "3.11.5"
  }
 },
 "nbformat": 4,
 "nbformat_minor": 2
}
