{
 "cells": [
  {
   "cell_type": "markdown",
   "metadata": {},
   "source": [
    "# Factorial\n",
    "## Description\n",
    "\n",
    "Factorial is a mathematical function denoted by '!'. It is defined as\n",
    "\n",
    "__n factorial = n!= 1*2*3...*(n-1)*n__\n",
    "\n",
    "In this question, you have to make a function that will take an integer as input, and return the factorial of that integer if that integer is greater than or equal to zero and return -1 if the number is less than zero or negative.\n",
    "\n",
    "Note: the function doesn't return print the factorial but returns it.\n",
    "\n",
    "*Input*:\n",
    "* An integer n\n",
    "\n",
    "*Output*:\n",
    "* The function returns n! if n is greater than  or equal to 0.\n",
    "* 0! = 1\n",
    "* and the function returns -1 if the number is less than 0.\n",
    "\n",
    "*Sample input:*\n",
    "* 3\n",
    "\n",
    "*Sample output:*\n",
    "* 6\n"
   ]
  },
  {
   "cell_type": "code",
   "execution_count": 6,
   "metadata": {},
   "outputs": [],
   "source": [
    "def factorial(n):\n",
    "    if n==0 or n==1:\n",
    "        print(1)\n",
    "    elif n<0:\n",
    "        print(-1)\n",
    "    else:\n",
    "        factorial=1\n",
    "        for i in range(2,n+1):\n",
    "            factorial*=i\n",
    "        return factorial\n",
    "            \n",
    "            "
   ]
  },
  {
   "cell_type": "code",
   "execution_count": 7,
   "metadata": {},
   "outputs": [
    {
     "data": {
      "text/plain": [
       "24"
      ]
     },
     "execution_count": 7,
     "metadata": {},
     "output_type": "execute_result"
    }
   ],
   "source": [
    "factorial(4)"
   ]
  }
 ],
 "metadata": {
  "kernelspec": {
   "display_name": "base",
   "language": "python",
   "name": "python3"
  },
  "language_info": {
   "codemirror_mode": {
    "name": "ipython",
    "version": 3
   },
   "file_extension": ".py",
   "mimetype": "text/x-python",
   "name": "python",
   "nbconvert_exporter": "python",
   "pygments_lexer": "ipython3",
   "version": "3.11.5"
  }
 },
 "nbformat": 4,
 "nbformat_minor": 2
}
