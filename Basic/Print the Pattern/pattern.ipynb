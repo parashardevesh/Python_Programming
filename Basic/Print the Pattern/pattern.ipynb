{
 "cells": [
  {
   "cell_type": "markdown",
   "metadata": {},
   "source": [
    "# Print The Pattern\n",
    "## Description\n",
    "\n",
    "Printing different patterns is a very good exercise to reinforce iteration through loops and strong logic building. Here you will be given a positive integer and you will generate pattern based on that integer.\n",
    "\n",
    "\n",
    "*Input:*\n",
    "* A positive integer n\n",
    "* 1 <= n <=20\n",
    "\n",
    "*Output:*\n",
    "* A pattern as described by the Sample input and outputs below.\n",
    "\n",
    "\n",
    "*Sample input:*\n",
    "* 5\n",
    "\n",
    "*Sample output:*\n",
    "\n",
    "* ![Pattern](https://www.google.com/url?sa=i&url=https%3A%2F%2Fbeginnersbook.com%2F2022%2F07%2Fc-program-to-print-pyramid-star-pattern%2F&psig=AOvVaw0hKem4uj5Xa0LvV-zmx5uE&ust=1711539886708000&source=images&cd=vfe&opi=89978449&ved=0CBIQjRxqFwoTCOCj1YntkYUDFQAAAAAdAAAAABAJ)"
   ]
  },
  {
   "cell_type": "code",
   "execution_count": 6,
   "metadata": {},
   "outputs": [],
   "source": [
    "def triangle_pattern(n):\n",
    "    for i in range(1,n+1):\n",
    "        for j in range(n-i):\n",
    "            print(' ', end='')\n",
    "        for k in range(i-1):\n",
    "            print('* ', end='')\n",
    "        print('*')"
   ]
  },
  {
   "cell_type": "code",
   "execution_count": 7,
   "metadata": {},
   "outputs": [
    {
     "name": "stdout",
     "output_type": "stream",
     "text": [
      "         *\n",
      "        * *\n",
      "       * * *\n",
      "      * * * *\n",
      "     * * * * *\n",
      "    * * * * * *\n",
      "   * * * * * * *\n",
      "  * * * * * * * *\n",
      " * * * * * * * * *\n",
      "* * * * * * * * * *\n"
     ]
    }
   ],
   "source": [
    "triangle_pattern(10)"
   ]
  }
 ],
 "metadata": {
  "kernelspec": {
   "display_name": "base",
   "language": "python",
   "name": "python3"
  },
  "language_info": {
   "codemirror_mode": {
    "name": "ipython",
    "version": 3
   },
   "file_extension": ".py",
   "mimetype": "text/x-python",
   "name": "python",
   "nbconvert_exporter": "python",
   "pygments_lexer": "ipython3",
   "version": "3.11.5"
  }
 },
 "nbformat": 4,
 "nbformat_minor": 2
}
