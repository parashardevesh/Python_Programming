{
 "cells": [
  {
   "cell_type": "markdown",
   "metadata": {},
   "source": [
    "# Swapping\n",
    "\n",
    "### Description\n",
    "\n",
    "You are given two integer variables,  x and y. You have to swap the values stored in x and y.\n",
    "\n",
    "*Input!*\n",
    "\n",
    "Two numbers x and y separated by a comma.\n",
    "\n",
    "*Output*:\n",
    "\n",
    "Print 5 lines. The first two lines will have values of variables shown before swapping, and the last two lines will have values of variables shown after swapping. The third line will be blank.\n",
    "\n",
    "\n",
    "*Sample input*:\n",
    "\n",
    "* 20, 50\n",
    "\n",
    "*Sample output:*\n",
    "\n",
    "* x before swapping: 20\n",
    "* y before swapping: 50\n",
    "\n",
    "* x after swapping: 50\n",
    "* y after swapping: 20\n"
   ]
  },
  {
   "cell_type": "code",
   "execution_count": 6,
   "metadata": {},
   "outputs": [],
   "source": [
    "def swapping(first_input,second_input): #taking two inputs from user and then swapping them\n",
    "    x = first_input\n",
    "    y = second_input\n",
    "    # let's create an empty variable z.\n",
    "    z = 0\n",
    "    z=x\n",
    "    x=y\n",
    "    y=z\n",
    "\n",
    "    print('x before swapping: {}'.format(first_input))\n",
    "    print('y before swapping: {}'.format(second_input))\n",
    "    print()\n",
    "    print('x after swapping: {}'.format(x))\n",
    "    print('y after swapping: {}'.format(y))"
   ]
  },
  {
   "cell_type": "code",
   "execution_count": 8,
   "metadata": {},
   "outputs": [
    {
     "name": "stdout",
     "output_type": "stream",
     "text": [
      "x before swapping: Kira\n",
      "y before swapping: Shinigami\n",
      "\n",
      "x after swapping: Shinigami\n",
      "y after swapping: Kira\n"
     ]
    }
   ],
   "source": [
    "swapping('Kira', 'Shinigami')"
   ]
  }
 ],
 "metadata": {
  "kernelspec": {
   "display_name": "base",
   "language": "python",
   "name": "python3"
  },
  "language_info": {
   "codemirror_mode": {
    "name": "ipython",
    "version": 3
   },
   "file_extension": ".py",
   "mimetype": "text/x-python",
   "name": "python",
   "nbconvert_exporter": "python",
   "pygments_lexer": "ipython3",
   "version": "3.11.5"
  }
 },
 "nbformat": 4,
 "nbformat_minor": 2
}
