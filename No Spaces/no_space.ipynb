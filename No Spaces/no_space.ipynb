{
 "cells": [
  {
   "cell_type": "markdown",
   "metadata": {},
   "source": [
    "# No Spaces\n",
    "## Description\n",
    "\n",
    "While naming entities, it is a common practice to avoid spaces. That is the reason you see so many people using underscores instead of spaces. \n",
    "You will be given a string, containing a few spaces and random upper and lower cases. You have to write a code that will add underscore in place of spaces and also capitalise the letters properly, i.e. the first letter after underscore should be in upper case and the first letter of the string should be in upper case, all of the other letters should be lower case. \n",
    "This type of activity is frequently encountered while starting to analyse data. This is called Data cleaning and you will learn more about it in upcoming modules.\n",
    "\n",
    "\n",
    "*Input:*\n",
    "* A string of only alphabets and spaces\n",
    "\n",
    "*Output:*\n",
    "* A string formatted as stated above. See sample input/output for more clarification,\n",
    "\n",
    "\n",
    "*Sample input:*\n",
    "* caloRie consuMed\n",
    "\n",
    "*Sample output:*\n",
    "* Calorie_Consumed\n",
    "\n",
    "\n",
    "*Sample input:*\n",
    "* data science\n",
    "\n",
    "*Sample output:*\n",
    "* Data_Science"
   ]
  },
  {
   "cell_type": "code",
   "execution_count": 15,
   "metadata": {},
   "outputs": [],
   "source": [
    "def nospace(string):\n",
    "    string = string.split()\n",
    "    capitalized_string = []\n",
    "    for i in string:\n",
    "        i = i.lower()\n",
    "        i = i.capitalize()\n",
    "        capitalized_string.append(i)\n",
    "\n",
    "    print('_'.join(capitalized_string))"
   ]
  },
  {
   "cell_type": "code",
   "execution_count": 17,
   "metadata": {},
   "outputs": [
    {
     "name": "stdout",
     "output_type": "stream",
     "text": [
      "Hello_World\n",
      "Devesh_Parashar\n"
     ]
    }
   ],
   "source": [
    "nospace('hello world')\n",
    "nospace('dEvesh pArashaR')"
   ]
  }
 ],
 "metadata": {
  "kernelspec": {
   "display_name": "base",
   "language": "python",
   "name": "python3"
  },
  "language_info": {
   "codemirror_mode": {
    "name": "ipython",
    "version": 3
   },
   "file_extension": ".py",
   "mimetype": "text/x-python",
   "name": "python",
   "nbconvert_exporter": "python",
   "pygments_lexer": "ipython3",
   "version": "3.11.5"
  }
 },
 "nbformat": 4,
 "nbformat_minor": 2
}
