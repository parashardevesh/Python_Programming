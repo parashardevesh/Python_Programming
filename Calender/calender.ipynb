{
 "cells": [
  {
   "cell_type": "markdown",
   "metadata": {},
   "source": [
    "# Calendar\n",
    "## Description\n",
    "\n",
    "You are planning to go to your friend's wedding and you have long events all month, lasting at least a few days. You have the start and end dates of events and your task is to find out events overlapping with the wedding date.\n",
    "\n",
    "The code for taking input has already been written for you, please don't modify that, but do read and try to understand the way input has been taken. You will be asked to take input on your own for most of the problems here onwards. Taking data in a suitable format is an important skill for a Data Scientist.\n",
    "\n",
    "*Input:*\n",
    "* The input will contain a list of lists where each sub-list has only two elements representing the start and end date of an event, the start date will be less than or equal to the end date. The next line of input will have a wedding date. \n",
    "\n",
    "*Output:*\n",
    "* The output should have the number of events overlapping with the wedding date.\n",
    "\n",
    " \n",
    "*Sample input:*\n",
    "* [ [29,31], [23,26], [24,25] ]\n",
    "* 24\n",
    "\n",
    "*Sample output:*\n",
    "* 2\n",
    "\n",
    "*Explanation:*\n",
    "\n",
    "* There are three events in the month.\n",
    "* Event 1= from date 29 to 31\n",
    "* Event 2= from date 23 to 26\n",
    "* Event 3= from date 24 to 25\n",
    "* Wedding is on 24. This means it will clash with Event 3 and Event 2, that is two events. The output is therefore 2.\n",
    "\n",
    "*Sample input:*\n",
    "* [ [1, 4], [7, 10], [8, 8], [14, 23] ]\n",
    "* 26\n",
    "\n",
    "*Sample output:*\n",
    "* 0"
   ]
  },
  {
   "cell_type": "code",
   "execution_count": 1,
   "metadata": {},
   "outputs": [],
   "source": [
    "def calender(scheduled_events, wedding_date):\n",
    "    overlapping_events=0\n",
    "    for event in scheduled_events:\n",
    "        if wedding_date in range(event[0],event[1]+1):\n",
    "            overlapping_events+=1\n",
    "    print(overlapping_events)"
   ]
  },
  {
   "cell_type": "code",
   "execution_count": 4,
   "metadata": {},
   "outputs": [
    {
     "name": "stdout",
     "output_type": "stream",
     "text": [
      "1\n"
     ]
    }
   ],
   "source": [
    "calender(scheduled_events=[ [29,31], [23,26], [24,25] ], wedding_date=26)"
   ]
  }
 ],
 "metadata": {
  "kernelspec": {
   "display_name": "base",
   "language": "python",
   "name": "python3"
  },
  "language_info": {
   "codemirror_mode": {
    "name": "ipython",
    "version": 3
   },
   "file_extension": ".py",
   "mimetype": "text/x-python",
   "name": "python",
   "nbconvert_exporter": "python",
   "pygments_lexer": "ipython3",
   "version": "3.11.5"
  }
 },
 "nbformat": 4,
 "nbformat_minor": 2
}
