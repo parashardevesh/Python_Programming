{
 "cells": [
  {
   "cell_type": "markdown",
   "metadata": {},
   "source": [
    "# Alarm Clock\n",
    "## Description\n",
    "\n",
    "You're trying to automate your alarm clock by writing a function for it. You're given a day of the week encoded as *1=Mon, 2=Tue, ... 6=Sat, 7=Sun*, and whether you are on **vacation** as a boolean value (a boolean object is either True or False. Google \"booleans python\" to get a better understanding). Based on the day and whether you're on **vacation**, write a function that returns a time in form of a string indicating when the alarm clock should ring. \n",
    "\n",
    "When not on a **vacation**, on **weekdays**, the alarm should ring at *\"7:00\"* and on the **weekends** (Saturday and Sunday) it should ring at *\"10:00\"*. \n",
    "\n",
    "While on a **vacation**, it should ring at *\"10:00\"* on **weekdays**. On **vacation**, it should not ring on **weekends**, that is, it should return *\"off\"*.\n"
   ]
  },
  {
   "cell_type": "markdown",
   "metadata": {},
   "source": [
    "**Input:**\n",
    "\n",
    "The input will be a list of two elements. The first element will be an integer from 1 to 7, and the second element will be a boolean value.\n",
    "\n",
    "**Output:**\n",
    "\n",
    "The output will be a string denoting the time alarm will ring or 'off'\n",
    "\n",
    "\n",
    "Sample input:\n",
    "* [7, True]\n",
    "\n",
    "Sample output:\n",
    "* off"
   ]
  },
  {
   "cell_type": "code",
   "execution_count": 5,
   "metadata": {},
   "outputs": [],
   "source": [
    "#taking two inputs from user as per quetion\n",
    "def alarm_clock(week_number, is_on_vacation):\n",
    "    weekend = [6,7]\n",
    "    if is_on_vacation:             #if person is on vacation\n",
    "        if week_number in weekend: #if its a weekend\n",
    "            print('off')           #alarm should be off\n",
    "        else:                      #not on weekend but on vacation\n",
    "            print('10:00')         #alarm should ring at 10:00\n",
    "    else:                          #not on vacation\n",
    "        if week_number in weekend: #if its a weeekend\n",
    "            print('10:00')         #alarm at 10:00\n",
    "        else:                      #not a weekend\n",
    "            print('7:00')          #alarm at 7:00"
   ]
  },
  {
   "cell_type": "code",
   "execution_count": 9,
   "metadata": {},
   "outputs": [
    {
     "name": "stdout",
     "output_type": "stream",
     "text": [
      "10:00\n"
     ]
    }
   ],
   "source": [
    "alarm_clock(5,True)"
   ]
  }
 ],
 "metadata": {
  "kernelspec": {
   "display_name": "base",
   "language": "python",
   "name": "python3"
  },
  "language_info": {
   "codemirror_mode": {
    "name": "ipython",
    "version": 3
   },
   "file_extension": ".py",
   "mimetype": "text/x-python",
   "name": "python",
   "nbconvert_exporter": "python",
   "pygments_lexer": "ipython3",
   "version": "3.11.5"
  }
 },
 "nbformat": 4,
 "nbformat_minor": 2
}
