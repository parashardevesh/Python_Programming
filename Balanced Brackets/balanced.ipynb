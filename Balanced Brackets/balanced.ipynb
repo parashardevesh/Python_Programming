{
 "cells": [
  {
   "cell_type": "markdown",
   "metadata": {},
   "source": [
    "# Balanced Brackets\n",
    "## Description\n",
    "\n",
    "You will be given a string with a lot of brackets. You have to print if the brackets are balanced or not. Remember, there are three types of brackets: ‘( )’,  ‘{ }’ and ‘[ ]’.\n",
    "\n",
    "*Input:*\n",
    "* A string\n",
    "\n",
    "*Output:*\n",
    "* Yes, if the brackets are balanced.\n",
    "* No otherwise.\n",
    "\n",
    "\n",
    "*Sample input:*\n",
    "* ){[[]]}())()\n",
    "\n",
    "*Sample output:*\n",
    "* No\n",
    "\n",
    "*Sample input 2:*\n",
    "* [](){[]()(){}}\n",
    "\n",
    "*Sample output 2:*\n",
    "* Yes"
   ]
  },
  {
   "cell_type": "code",
   "execution_count": 1,
   "metadata": {},
   "outputs": [],
   "source": [
    "def balanced_brackets(brackets):\n",
    "    stack = []\n",
    "    \n",
    "    for bracket in brackets:\n",
    "        if len(stack) == 0:\n",
    "            stack.append(bracket)\n",
    "        else:\n",
    "            if bracket == ')' and stack[-1] == '(':\n",
    "                stack.pop()\n",
    "            elif bracket == ']' and stack[-1] == '[':\n",
    "                stack.pop()\n",
    "            elif bracket == '}' and stack[-1] == '{':\n",
    "                stack.pop()\n",
    "            else:\n",
    "                stack.append(bracket)\n",
    "    if stack:\n",
    "        print('Not Balanced')\n",
    "    else:\n",
    "        print('Balanced')\n",
    "                "
   ]
  },
  {
   "cell_type": "code",
   "execution_count": 6,
   "metadata": {},
   "outputs": [
    {
     "name": "stdout",
     "output_type": "stream",
     "text": [
      "Not Balanced\n",
      "Not Balanced\n",
      "Balanced\n"
     ]
    }
   ],
   "source": [
    "balanced_brackets('[}){(]')\n",
    "balanced_brackets('([{([{([([([([([([([([([([{{{{[]}}}}])])])])])])])])])])}])}]])')\n",
    "balanced_brackets('([{([{([([([([([([([([([([{{{{[]}}}}])])])])])])])])])])}])}])')"
   ]
  }
 ],
 "metadata": {
  "kernelspec": {
   "display_name": "base",
   "language": "python",
   "name": "python3"
  },
  "language_info": {
   "codemirror_mode": {
    "name": "ipython",
    "version": 3
   },
   "file_extension": ".py",
   "mimetype": "text/x-python",
   "name": "python",
   "nbconvert_exporter": "python",
   "pygments_lexer": "ipython3",
   "version": "3.11.5"
  }
 },
 "nbformat": 4,
 "nbformat_minor": 2
}
