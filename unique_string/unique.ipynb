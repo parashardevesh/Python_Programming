{
 "cells": [
  {
   "cell_type": "markdown",
   "metadata": {},
   "source": [
    "# Unique String\n",
    "## Description\n",
    "\n",
    "For the purpose of this question, we will define something called an Unique string. Note that this definition is not valid outside this question. A string is a Unique string if the frequency of its characters is something like 1, 2, 3, 4, .... That is a character appears only once, another appears twice, another appears thrice and so on. For example string '$yrr$ssrsr' is a Unique string since the frequency of y:1, $:2, s:3, r:4, however string '$yrr$ssrsr%' will not be an Unique string since it has two characters (y and %) with frequency 1. The frequency of characters should be of form 1, 2, 3, 4, 5... only.\n",
    "\n",
    "Given a string, can you determine if the string is Unique string or no?\n",
    "\n",
    "*Input:*\n",
    "* A string\n",
    "\n",
    "*Output:*\n",
    "* Boolean depending whether the string is Unique string or not\n",
    "\n",
    "\n",
    "*Sample input:*\n",
    "* $yrr$ssrsr\n",
    "\n",
    "*Sample output:*\n",
    "* True\n",
    "\n",
    "*Sample input:*\n",
    "* $yrr$ssrsr%\n",
    "\n",
    "*Sample output:*\n",
    "* False\n",
    "\n",
    "*Sample input:*\n",
    "* ab#ab#aba\n",
    "\n",
    "*Sample output:*\n",
    "* False"
   ]
  },
  {
   "cell_type": "code",
   "execution_count": 1,
   "metadata": {},
   "outputs": [],
   "source": [
    "def unique_string(string):\n",
    "    d = {}\n",
    "    for char in string:\n",
    "        if char not in d.keys():\n",
    "            d[char] = 1\n",
    "        else:\n",
    "            d[char] += 1\n",
    "    final_list = list(d.values())\n",
    "    r = list(range(1, len(final_list)+1))\n",
    "    \n",
    "    if sorted(final_list) == r:\n",
    "        print(True)\n",
    "    else:\n",
    "        print(False)"
   ]
  },
  {
   "cell_type": "code",
   "execution_count": 4,
   "metadata": {},
   "outputs": [
    {
     "name": "stdout",
     "output_type": "stream",
     "text": [
      "True\n",
      "False\n",
      "True\n"
     ]
    }
   ],
   "source": [
    "unique_string('$yrr$ssrsr')\n",
    "unique_string('$yrr$ssrsr%')\n",
    "unique_string('abbcccdddd')"
   ]
  }
 ],
 "metadata": {
  "kernelspec": {
   "display_name": "base",
   "language": "python",
   "name": "python3"
  },
  "language_info": {
   "codemirror_mode": {
    "name": "ipython",
    "version": 3
   },
   "file_extension": ".py",
   "mimetype": "text/x-python",
   "name": "python",
   "nbconvert_exporter": "python",
   "pygments_lexer": "ipython3",
   "version": "3.11.5"
  }
 },
 "nbformat": 4,
 "nbformat_minor": 2
}
