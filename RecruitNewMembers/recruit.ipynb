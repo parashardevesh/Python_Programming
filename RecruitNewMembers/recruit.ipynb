{
 "cells": [
  {
   "cell_type": "markdown",
   "metadata": {},
   "source": [
    "# Recruit New Members\n",
    "## Description\n",
    "\n",
    "Suppose you are a manager as a big firm and now are looking for new members for your team. You sent out an advertisement and have received a few applications. You have a habit of scoring people on a scale of 100. You have given scores to all the members of your team and the new applications. The process of selection is going to be very straightforward if the applicant improves the average of the team then you hire the applicant to join the team or else reject the application. Remember the order of processing applications is going to be important here.\n",
    "\n",
    "\n",
    "*Input:*\n",
    "\n",
    "* Two lists on two separate lines.\n",
    "* The first line will have the list of scores of current team members\n",
    "* The second line will have the list of scores of the applicants.\n",
    "\n",
    "\n",
    "\n",
    "*Output:*\n",
    "\n",
    "* The list consisting of scores of the final team after hiring from the pool of applicants.\n",
    "\n",
    "\n",
    "*Sample input:*\n",
    "\n",
    "* [23,45,34,76]\n",
    "\n",
    "* [70,34,94]\n",
    "\n",
    "\n",
    "\n",
    "*Sample output:*\n",
    "\n",
    "* [23, 45, 34, 76, 70, 94]"
   ]
  },
  {
   "cell_type": "code",
   "execution_count": 1,
   "metadata": {},
   "outputs": [],
   "source": [
    "def recruit_new_members(team, new_members): #taking two lists as input from user. 1st list is team members and 2nd list is new_members to be hired based on test scores\n",
    "    avg_team_score = sum(team)/len(team)\n",
    "    for test_score in new_members:\n",
    "        if test_score > avg_team_score:\n",
    "            team.append(test_score)\n",
    "            avg_team_score = sum(team)/len(team) #updating the team_score_average after each hiring.\n",
    "    print(team)"
   ]
  },
  {
   "cell_type": "code",
   "execution_count": 3,
   "metadata": {},
   "outputs": [
    {
     "name": "stdout",
     "output_type": "stream",
     "text": [
      "[10, 20, 30, 40, 50, 60, 80, 60]\n"
     ]
    }
   ],
   "source": [
    "recruit_new_members(team=[10,20,30,40,50],new_members=[30,60,80,40,60])"
   ]
  }
 ],
 "metadata": {
  "kernelspec": {
   "display_name": "base",
   "language": "python",
   "name": "python3"
  },
  "language_info": {
   "codemirror_mode": {
    "name": "ipython",
    "version": 3
   },
   "file_extension": ".py",
   "mimetype": "text/x-python",
   "name": "python",
   "nbconvert_exporter": "python",
   "pygments_lexer": "ipython3",
   "version": "3.11.5"
  }
 },
 "nbformat": 4,
 "nbformat_minor": 2
}
