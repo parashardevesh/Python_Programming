{
 "cells": [
  {
   "cell_type": "markdown",
   "metadata": {},
   "source": [
    "# Common Prefix\n",
    "## Description\n",
    "\n",
    "You will be given two strings. You have to find the largest prefix common in both the strings.\n",
    "\n",
    "*Input:*\n",
    "* Two lines of input, one string on each line\n",
    "\n",
    "*Output:*\n",
    "* The common largest prefix for both strings. Check sample input/output for clarification. -1 if no prefix is common.\n",
    "\n",
    "\n",
    "*Sample input:*\n",
    "* abshdksajd\n",
    "* abshiehand\n",
    "\n",
    "*Sample output:*\n",
    "* absh"
   ]
  },
  {
   "cell_type": "code",
   "execution_count": 11,
   "metadata": {},
   "outputs": [],
   "source": [
    "def common_prefix(string1, string2):\n",
    "    string1 = string1.lower()\n",
    "    string2 = string2.lower()\n",
    "    min_len = min(len(string1), len(string2))\n",
    "    \n",
    "    common_prefix = ''\n",
    "    if string1[0] == string2[0]:\n",
    "        for i in range(min_len):\n",
    "            if string1[i] == string2[i]:\n",
    "                common_prefix+=string1[i]\n",
    "            else:\n",
    "                break \n",
    "    else:\n",
    "        print(-1)\n",
    "    \n",
    "    print(common_prefix)"
   ]
  },
  {
   "cell_type": "code",
   "execution_count": 13,
   "metadata": {},
   "outputs": [
    {
     "name": "stdout",
     "output_type": "stream",
     "text": [
      "devesh\n",
      "absh\n"
     ]
    }
   ],
   "source": [
    "common_prefix('devesh', 'Deveshparashar')\n",
    "common_prefix('abshdksajd', 'abshiehand')"
   ]
  }
 ],
 "metadata": {
  "kernelspec": {
   "display_name": "base",
   "language": "python",
   "name": "python3"
  },
  "language_info": {
   "codemirror_mode": {
    "name": "ipython",
    "version": 3
   },
   "file_extension": ".py",
   "mimetype": "text/x-python",
   "name": "python",
   "nbconvert_exporter": "python",
   "pygments_lexer": "ipython3",
   "version": "3.11.5"
  }
 },
 "nbformat": 4,
 "nbformat_minor": 2
}
