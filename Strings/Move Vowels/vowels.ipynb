{
 "cells": [
  {
   "cell_type": "markdown",
   "metadata": {},
   "source": [
    "# Shift Vowels\n",
    "## Description\n",
    "\n",
    "Write a program that receives a string and shifts all the vowels present in it to the beginning. Output the resultant string. The order of all the vowels with respect to each other as well as the order of all the other characters with respect to each other should stay the same.\n",
    "\n",
    "*Input:*\n",
    "* A string\n",
    "\n",
    "*Output:*\n",
    "* Vowels shifted to the beginning in the input string.\n",
    "\n",
    "*Sample input:*\n",
    "* programming\n",
    "\n",
    "*Sample output:*\n",
    "* oaiprgrmmng\n",
    "\n",
    "*Sample input:*\n",
    "* You love Python!\n",
    "\n",
    "*Sample output:*\n",
    "* ouoeoY lv Pythn!"
   ]
  },
  {
   "cell_type": "code",
   "execution_count": 1,
   "metadata": {},
   "outputs": [],
   "source": [
    "def move_vowels(string):\n",
    "    vowels = 'AEIOUaeiou'\n",
    "    vowel_only = ''\n",
    "    no_vowel = ''\n",
    "    for char in string:\n",
    "        if char in vowels:\n",
    "            vowel_only += char\n",
    "        else:\n",
    "            no_vowel += char\n",
    "    print(vowel_only+no_vowel)"
   ]
  },
  {
   "cell_type": "code",
   "execution_count": 4,
   "metadata": {},
   "outputs": [
    {
     "name": "stdout",
     "output_type": "stream",
     "text": [
      "ouoeoY lv Pythn!\n"
     ]
    }
   ],
   "source": [
    "move_vowels('You love Python!')"
   ]
  }
 ],
 "metadata": {
  "kernelspec": {
   "display_name": "base",
   "language": "python",
   "name": "python3"
  },
  "language_info": {
   "codemirror_mode": {
    "name": "ipython",
    "version": 3
   },
   "file_extension": ".py",
   "mimetype": "text/x-python",
   "name": "python",
   "nbconvert_exporter": "python",
   "pygments_lexer": "ipython3",
   "version": "3.11.5"
  }
 },
 "nbformat": 4,
 "nbformat_minor": 2
}
