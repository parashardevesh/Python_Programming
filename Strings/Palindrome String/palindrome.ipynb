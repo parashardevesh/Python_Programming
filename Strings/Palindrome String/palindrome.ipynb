{
 "cells": [
  {
   "cell_type": "markdown",
   "metadata": {},
   "source": [
    "# Palindrome String\n",
    "## Description\n",
    "\n",
    "A string is considered palindrome if it stays the same upon reversing it. For example ‘racecar’.\n",
    "\n",
    "Write a program to check whether a string is a palindrome or not. Print 1 if the string is a palindrome and 0 otherwise.\n",
    "\n",
    "***Note: Program is not case-sensitive. So, if the input is, say, “HAnnah”, then, its output should be 1.***\n",
    "\n",
    "*Input:*\n",
    "* A string\n",
    "\n",
    "*Output:*\n",
    "* 1 if the string is a palindrome, 0 otherwise\n",
    "\n",
    "*Sample input:*\n",
    "* HAnnah\n",
    "\n",
    "*Sample output:*\n",
    "* 1\n",
    "\n",
    "*Sample input:*\n",
    "* Rebecca\n",
    "\n",
    "*Sample output:*\n",
    "* 0"
   ]
  },
  {
   "cell_type": "code",
   "execution_count": 10,
   "metadata": {},
   "outputs": [],
   "source": [
    "def palindrome(string):\n",
    "    string = string.lower()\n",
    "    reversed_string = ''\n",
    "    reversed_string = reversed_string.join(list(reversed(string)))\n",
    "    \n",
    "    if string == reversed_string:\n",
    "        print(1)\n",
    "    else:\n",
    "        print(0)"
   ]
  },
  {
   "cell_type": "code",
   "execution_count": 15,
   "metadata": {},
   "outputs": [
    {
     "name": "stdout",
     "output_type": "stream",
     "text": [
      "1\n"
     ]
    }
   ],
   "source": [
    "palindrome('SoloS')"
   ]
  }
 ],
 "metadata": {
  "kernelspec": {
   "display_name": "base",
   "language": "python",
   "name": "python3"
  },
  "language_info": {
   "codemirror_mode": {
    "name": "ipython",
    "version": 3
   },
   "file_extension": ".py",
   "mimetype": "text/x-python",
   "name": "python",
   "nbconvert_exporter": "python",
   "pygments_lexer": "ipython3",
   "version": "3.11.5"
  }
 },
 "nbformat": 4,
 "nbformat_minor": 2
}
