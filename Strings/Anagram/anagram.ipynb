{
 "cells": [
  {
   "cell_type": "markdown",
   "metadata": {},
   "source": [
    "# Anagrams\n",
    "## Description\n",
    "\n",
    "Two strings are anagrams of each other if you can rearrange the characters of one string to make the other string.\n",
    "Given two strings, can you find if they are anagrams or no?\n",
    "\n",
    "*Input:*\n",
    "* Two lines of input, each line will contain a string without space.\n",
    "\n",
    "*Output:*\n",
    "* True or False based on whether the strings are anagrams or not.\n",
    "\n",
    "\n",
    "*Sample input:*\n",
    "* thing\n",
    "* night\n",
    "\n",
    "*Sample output:*\n",
    "* True\n",
    "\n",
    "*Sample input:*\n",
    "* upgrad\n",
    "* found\n",
    "\n",
    "*Sample output:*\n",
    "* False\n",
    "\n",
    "***Note: the code will be case-Sensitive***"
   ]
  },
  {
   "cell_type": "code",
   "execution_count": 5,
   "metadata": {},
   "outputs": [],
   "source": [
    "def anagrams(string1, string2):\n",
    "    if len(string1) != len(string2):\n",
    "        print('False')\n",
    "    else:\n",
    "        common = []\n",
    "        for i in range(len(string1)):\n",
    "            if list(string1)[i] in list(string2):\n",
    "                common.append(True)\n",
    "            else:\n",
    "                common.append(False)\n",
    "        print(sum(common)/len(common) == 1)\n",
    "                "
   ]
  },
  {
   "cell_type": "code",
   "execution_count": 10,
   "metadata": {},
   "outputs": [
    {
     "name": "stdout",
     "output_type": "stream",
     "text": [
      "True\n",
      "True\n",
      "False\n"
     ]
    }
   ],
   "source": [
    "anagrams('night', 'thing')\n",
    "anagrams('gojo', 'jogo')\n",
    "anagrams('hello', 'world')"
   ]
  }
 ],
 "metadata": {
  "kernelspec": {
   "display_name": "base",
   "language": "python",
   "name": "python3"
  },
  "language_info": {
   "codemirror_mode": {
    "name": "ipython",
    "version": 3
   },
   "file_extension": ".py",
   "mimetype": "text/x-python",
   "name": "python",
   "nbconvert_exporter": "python",
   "pygments_lexer": "ipython3",
   "version": "3.11.5"
  }
 },
 "nbformat": 4,
 "nbformat_minor": 2
}
