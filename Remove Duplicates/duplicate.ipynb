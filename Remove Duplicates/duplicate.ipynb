{
 "cells": [
  {
   "cell_type": "markdown",
   "metadata": {},
   "source": [
    "# Remove Duplicates\n",
    "## Description\n",
    "\n",
    "Sometimes the data has few duplicate values which will affect the analysis done. In this problem, you will be given a list. You have to find and delete the duplicates and print the updated list with no duplicates.\n",
    "\n",
    "*Input:*\n",
    "* A list of integers.\n",
    "\n",
    "*Output:*\n",
    "* A list of integers, with duplicates removed if any.\n",
    "\n",
    "\n",
    "*Sample input:*\n",
    "* [8, 9, 2, 2, 3, 4, 5, 2]\n",
    "\n",
    "*Sample output:*\n",
    "* [8, 9, 2, 3, 4, 5]\n",
    "\n",
    "*Sample input:*\n",
    "* [4, 4, 4, 4]\n",
    "\n",
    "*Sample output:*\n",
    "* [4]\n",
    "\n",
    "----\n",
    "Note the order of the data did not change in input and output.\n"
   ]
  },
  {
   "cell_type": "code",
   "execution_count": 6,
   "metadata": {},
   "outputs": [],
   "source": [
    "# removes duplicates from the list by storing it in a dictionary since dict has unique keys only\n",
    "def duplicate_remover(duplicated_list):\n",
    "    \n",
    "    dict_a = {}\n",
    "    for i in duplicated_list:\n",
    "        if i not in dict_a:\n",
    "            dict_a[i] = 1 #giving any random value to key which is 1\n",
    "    \n",
    "    print(list(dict_a.keys()))"
   ]
  },
  {
   "cell_type": "code",
   "execution_count": 7,
   "metadata": {},
   "outputs": [
    {
     "name": "stdout",
     "output_type": "stream",
     "text": [
      "[1, 2, 3, 8, 9, 10]\n"
     ]
    }
   ],
   "source": [
    "duplicate_remover([1,1,1,2,2,2,3,3,8,8,8,9,9,10,10])"
   ]
  }
 ],
 "metadata": {
  "kernelspec": {
   "display_name": "base",
   "language": "python",
   "name": "python3"
  },
  "language_info": {
   "codemirror_mode": {
    "name": "ipython",
    "version": 3
   },
   "file_extension": ".py",
   "mimetype": "text/x-python",
   "name": "python",
   "nbconvert_exporter": "python",
   "pygments_lexer": "ipython3",
   "version": "3.11.5"
  }
 },
 "nbformat": 4,
 "nbformat_minor": 2
}
