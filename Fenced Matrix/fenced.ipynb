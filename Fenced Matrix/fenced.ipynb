{
 "cells": [
  {
   "cell_type": "markdown",
   "metadata": {},
   "source": [
    "# Fenced Matrix\n",
    "## Description\n",
    "\n",
    "You will be given two positive integers m and n. You have to make a list of lists (which can be visualised as a matrix) of size m*n, that is m sublists (rows), with each sublists having n integers (columns). The matrix should be such that it should have 1 on the border and 0 everywhere else. See sample input and output for more clarification.\n",
    "\n",
    "\n",
    "\n",
    "*Input:*\n",
    "* Two integers separated by a comma\n",
    "\n",
    "*Output:*\n",
    "* A list of lists of size m*n printed like matrix as shown in the sample output.\n",
    "\n",
    "\n",
    "*Sample input:*\n",
    "* 4,5\n",
    "\n",
    "*Sample output:*\n",
    "* [1, 1, 1, 1, 1]\n",
    "* [1, 0, 0, 0, 1] \n",
    "* [1, 0, 0, 0, 1]\n",
    "* [1, 1, 1, 1, 1] "
   ]
  },
  {
   "cell_type": "code",
   "execution_count": 11,
   "metadata": {},
   "outputs": [],
   "source": [
    "def fenced_matrix(m,n):\n",
    "    final = [0]*n \n",
    "    final = [list(final) for i in range(m)]\n",
    "    \n",
    "    for i in range(m):      #m=rows\n",
    "        for j in range(n):  #n=columns\n",
    "            if i==0 or j==0 or i==m-1 or j==n-1:  #if i and j are rows and columns. when i =0, making first row 1, when i=last row doing same. similarly for j column.\n",
    "                final[i][j] = 1\n",
    "    for i in final:\n",
    "        print(i)"
   ]
  },
  {
   "cell_type": "code",
   "execution_count": 12,
   "metadata": {},
   "outputs": [
    {
     "name": "stdout",
     "output_type": "stream",
     "text": [
      "[1, 1, 1, 1, 1, 1]\n",
      "[1, 0, 0, 0, 0, 1]\n",
      "[1, 0, 0, 0, 0, 1]\n",
      "[1, 0, 0, 0, 0, 1]\n",
      "[1, 1, 1, 1, 1, 1]\n"
     ]
    }
   ],
   "source": [
    "fenced_matrix(5,6)"
   ]
  }
 ],
 "metadata": {
  "kernelspec": {
   "display_name": "base",
   "language": "python",
   "name": "python3"
  },
  "language_info": {
   "codemirror_mode": {
    "name": "ipython",
    "version": 3
   },
   "file_extension": ".py",
   "mimetype": "text/x-python",
   "name": "python",
   "nbconvert_exporter": "python",
   "pygments_lexer": "ipython3",
   "version": "3.11.5"
  }
 },
 "nbformat": 4,
 "nbformat_minor": 2
}
